{
 "cells": [
  {
   "cell_type": "code",
   "execution_count": null,
   "metadata": {},
   "outputs": [],
   "source": [
    "pip install pandas"
   ]
  },
  {
   "cell_type": "code",
   "execution_count": null,
   "metadata": {},
   "outputs": [],
   "source": [
    "pip install scipy"
   ]
  },
  {
   "cell_type": "code",
   "execution_count": 22,
   "metadata": {},
   "outputs": [],
   "source": [
    "import pandas as pd\n",
    "from scipy.stats import mode"
   ]
  },
  {
   "cell_type": "code",
   "execution_count": 23,
   "metadata": {},
   "outputs": [],
   "source": [
    "energy_data = \"complete_renewable_energy_dataset.csv\"  \n",
    "df = pd.read_csv(energy_data)"
   ]
  },
  {
   "cell_type": "markdown",
   "metadata": {},
   "source": [
    "Find number of missing values"
   ]
  },
  {
   "cell_type": "code",
   "execution_count": 24,
   "metadata": {},
   "outputs": [
    {
     "name": "stdout",
     "output_type": "stream",
     "text": [
      "Country                                    0\n",
      "Year                                       0\n",
      "Energy Type                                0\n",
      "Production (GWh)                           0\n",
      "Installed Capacity (MW)                    0\n",
      "Investments (USD)                          0\n",
      "Population                                 0\n",
      "GDP                                        0\n",
      "Energy Consumption                         0\n",
      "Energy Exports                             0\n",
      "Energy Imports                             0\n",
      "CO2 Emissions                              0\n",
      "Renewable Energy Jobs                      0\n",
      "Government Policies                        0\n",
      "R&D Expenditure                            0\n",
      "Renewable Energy Targets                   0\n",
      "Average Annual Temperature                 0\n",
      "Annual Rainfall                            0\n",
      "Solar Irradiance                           0\n",
      "Wind Speed                                 0\n",
      "Hydro Potential                            0\n",
      "Geothermal Potential                       0\n",
      "Biomass Availability                       0\n",
      "Energy Storage Capacity                    0\n",
      "Grid Integration Capability                0\n",
      "Electricity Prices                         0\n",
      "Energy Subsidies                           0\n",
      "International Aid for Renewables           0\n",
      "Public Awareness                           0\n",
      "Energy Efficiency Programs                 0\n",
      "Urbanization Rate                          0\n",
      "Industrialization Rate                     0\n",
      "Energy Market Liberalization               0\n",
      "Renewable Energy Patents                   0\n",
      "Educational Level                          0\n",
      "Technology Transfer Agreements             0\n",
      "Renewable Energy Education Programs        0\n",
      "Local Manufacturing Capacity               0\n",
      "Import Tariffs on Energy Equipment         0\n",
      "Export Incentives for Energy Equipment     0\n",
      "Natural Disasters                          0\n",
      "Political Stability                        0\n",
      "Corruption Perception Index                0\n",
      "Regulatory Quality                         0\n",
      "Rule of Law                                0\n",
      "Control of Corruption                      0\n",
      "Economic Freedom Index                     0\n",
      "Ease of Doing Business                     0\n",
      "Innovation Index                           0\n",
      "Number of Research Institutions            0\n",
      "Number of Renewable Energy Conferences     0\n",
      "Number of Renewable Energy Publications    0\n",
      "Energy Sector Workforce                    0\n",
      "Proportion of Energy from Renewables       0\n",
      "Public-Private Partnerships in Energy      0\n",
      "Regional Renewable Energy Cooperation      0\n",
      "dtype: int64\n"
     ]
    }
   ],
   "source": [
    "print(df.isnull().sum())"
   ]
  },
  {
   "cell_type": "markdown",
   "metadata": {},
   "source": [
    "Identify numerical/binary columns"
   ]
  },
  {
   "cell_type": "code",
   "execution_count": 25,
   "metadata": {},
   "outputs": [],
   "source": [
    "numerical_cols = df.select_dtypes(include=['number']).columns.tolist()\n",
    "binary_cols = [col for col in numerical_cols if df[col].dropna().isin([0, 1]).all()]"
   ]
  },
  {
   "cell_type": "markdown",
   "metadata": {},
   "source": [
    "Remove binary columns from numerical list"
   ]
  },
  {
   "cell_type": "code",
   "execution_count": 26,
   "metadata": {},
   "outputs": [],
   "source": [
    "numerical_cols = [col for col in numerical_cols if col not in binary_cols]"
   ]
  },
  {
   "cell_type": "markdown",
   "metadata": {},
   "source": [
    "Function to find the mode - iloc chooses first mode if even "
   ]
  },
  {
   "cell_type": "code",
   "execution_count": 27,
   "metadata": {},
   "outputs": [],
   "source": [
    "def get_mode(series):\n",
    "    modes = series.mode()\n",
    "    return modes.iloc[0] if not modes.empty else None "
   ]
  },
  {
   "cell_type": "markdown",
   "metadata": {},
   "source": [
    "Group the data by Country, Year and Energy Type - as_index keeps them as columns **merges two dictionaries together"
   ]
  },
  {
   "cell_type": "code",
   "execution_count": 28,
   "metadata": {},
   "outputs": [],
   "source": [
    "cleaned_data = df.groupby(['Country', 'Year', 'Energy Type'], as_index=False).agg(\n",
    "    {**{col: 'mean' for col in numerical_cols}, \n",
    "     **{col: get_mode for col in binary_cols}}\n",
    ")"
   ]
  },
  {
   "cell_type": "markdown",
   "metadata": {},
   "source": [
    "Save the cleaned dataset as CSV without adding an index column"
   ]
  },
  {
   "cell_type": "code",
   "execution_count": 29,
   "metadata": {},
   "outputs": [],
   "source": [
    "cleaned_data.to_csv(\"cleaned_data.csv\", index=False)"
   ]
  },
  {
   "cell_type": "code",
   "execution_count": 30,
   "metadata": {},
   "outputs": [
    {
     "name": "stdout",
     "output_type": "stream",
     "text": [
      "     Country Energy Type    Year  Production (GWh)  Installed Capacity (MW)  \\\n",
      "0  Australia     Biomass  2000.0      43636.881098             19296.866170   \n",
      "1  Australia  Geothermal  2000.0      48850.463203             18784.258822   \n",
      "2  Australia       Hydro  2000.0      52694.427407             27042.232403   \n",
      "3  Australia       Solar  2000.0      64257.754605              7523.075579   \n",
      "4  Australia        Wind  2000.0      47037.458018             23959.731524   \n",
      "\n",
      "   Investments (USD)    Population           GDP  Energy Consumption  \\\n",
      "0       6.554377e+09  5.099807e+08  1.777859e+14       358831.382934   \n",
      "1       6.829162e+09  8.159334e+08  1.049215e+14       566483.207659   \n",
      "2       8.132999e+09  5.671965e+08  1.581029e+14        94312.151586   \n",
      "3       5.319924e+09  4.214009e+08  1.647998e+14       350032.704288   \n",
      "4       2.271832e+09  8.619461e+08  3.254174e+13       702045.982108   \n",
      "\n",
      "   Energy Exports  ...  Proportion of Energy from Renewables  \\\n",
      "0    52662.064173  ...                             50.870477   \n",
      "1    64141.416778  ...                             51.463065   \n",
      "2    43828.892022  ...                             63.558484   \n",
      "3    26464.467709  ...                             37.576524   \n",
      "4    51895.373368  ...                             50.391574   \n",
      "\n",
      "   Government Policies  Renewable Energy Targets  Energy Efficiency Programs  \\\n",
      "0                    1                         0                           1   \n",
      "1                    0                         1                           1   \n",
      "2                    1                         1                           1   \n",
      "3                    0                         0                           0   \n",
      "4                    0                         0                           0   \n",
      "\n",
      "   Energy Market Liberalization  Technology Transfer Agreements  \\\n",
      "0                             0                               1   \n",
      "1                             0                               0   \n",
      "2                             1                               1   \n",
      "3                             1                               1   \n",
      "4                             1                               0   \n",
      "\n",
      "   Renewable Energy Education Programs  Natural Disasters  \\\n",
      "0                                    1                  1   \n",
      "1                                    1                  1   \n",
      "2                                    1                  1   \n",
      "3                                    0                  0   \n",
      "4                                    0                  0   \n",
      "\n",
      "   Public-Private Partnerships in Energy  \\\n",
      "0                                      0   \n",
      "1                                      0   \n",
      "2                                      1   \n",
      "3                                      0   \n",
      "4                                      0   \n",
      "\n",
      "   Regional Renewable Energy Cooperation  \n",
      "0                                      0  \n",
      "1                                      1  \n",
      "2                                      0  \n",
      "3                                      1  \n",
      "4                                      0  \n",
      "\n",
      "[5 rows x 56 columns]\n"
     ]
    }
   ],
   "source": [
    "print(cleaned_data.head())"
   ]
  }
 ],
 "metadata": {
  "kernelspec": {
   "display_name": "Python 3",
   "language": "python",
   "name": "python3"
  },
  "language_info": {
   "codemirror_mode": {
    "name": "ipython",
    "version": 3
   },
   "file_extension": ".py",
   "mimetype": "text/x-python",
   "name": "python",
   "nbconvert_exporter": "python",
   "pygments_lexer": "ipython3",
   "version": "3.13.2"
  }
 },
 "nbformat": 4,
 "nbformat_minor": 2
}
